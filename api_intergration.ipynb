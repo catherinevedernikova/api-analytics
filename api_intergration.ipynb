{
  "cells": [
    {
      "cell_type": "code",
      "source": [
        "# WB\n",
        "import requests\n",
        "import pandas as pd\n",
        "import time\n",
        "from datetime import datetime, timedelta\n",
        "from requests.exceptions import ChunkedEncodingError, RequestException\n",
        "from tqdm import tqdm\n",
        "\n",
        "\n",
        "tokens = {\n",
        "    \"ХТС Вижн\": \"\",\n",
        "    \"ХТС Рус\": \" \"\n",
        "}\n",
        "\n",
        "final_file_path = \"\"\n",
        "\n",
        "\n",
        "final_data = pd.read_excel(final_file_path)\n",
        "last_week = final_data[final_data[\"МП\"] == \"WB\"][\"Неделя\"].max()\n",
        "if pd.isna(last_week):\n",
        "    last_week = 0\n",
        "print(f\"Последняя неделя WB в финальном файле: {last_week}\")\n",
        "\n",
        "url = \"https://seller-analytics-api.wildberries.ru/api/v2/nm-report/detail\"\n",
        "\n",
        "\n",
        "def get_page(page_number, start_date, end_date, headers, retries=3):\n",
        "    payload = {\n",
        "        \"page\": page_number,\n",
        "        \"period\": {\n",
        "            \"begin\": start_date,\n",
        "            \"end\": end_date\n",
        "        },\n",
        "        \"limit\": 500\n",
        "    }\n",
        "    for attempt in range(retries):\n",
        "        try:\n",
        "            response = requests.post(url, headers=headers, json=payload, timeout=60)\n",
        "            response.raise_for_status()\n",
        "            return response.json().get(\"data\", {}).get(\"cards\", [])\n",
        "        except (ChunkedEncodingError, RequestException) as e:\n",
        "            print(f\"Попытка {attempt + 1}/{retries} — ошибка: {e}. Повтор через 60 сек.\")\n",
        "            time.sleep(60)\n",
        "    return []\n",
        "\n",
        "\n",
        "def collect_data(start_date, end_date, headers):\n",
        "    all_data = []\n",
        "    page = 1\n",
        "    while True:\n",
        "        data = get_page(page, start_date, end_date, headers)\n",
        "        if not data:\n",
        "            break\n",
        "        all_data.extend(data)\n",
        "        if len(data) < 500:\n",
        "            break\n",
        "        page += 1\n",
        "        time.sleep(1)\n",
        "    return all_data\n",
        "\n",
        "\n",
        "today = datetime.today()\n",
        "prev_week = today.isocalendar()[1] - 1\n",
        "prev_week_year = today.isocalendar()[0]\n",
        "monday_last_week = datetime.strptime(f'{prev_week_year}-W{prev_week:02}-1', \"%G-W%V-%u\")\n",
        "date_list = [monday_last_week + timedelta(days=i) for i in range(7)]\n",
        "\n",
        "\n",
        "data_frames = []\n",
        "\n",
        "for company, token in tokens.items():\n",
        "    print(f\"\\n Обработка для: {company}\")\n",
        "    headers = {\n",
        "        \"Content-Type\": \"application/json\",\n",
        "        \"Authorization\": token\n",
        "    }\n",
        "\n",
        "    for single_date in tqdm(date_list, desc=f\"Загрузка {company}\"):\n",
        "        begin = single_date.replace(hour=0, minute=0, second=0).strftime(\"%Y-%m-%d %H:%M:%S\")\n",
        "        end = single_date.replace(hour=23, minute=59, second=59).strftime(\"%Y-%m-%d %H:%M:%S\")\n",
        "\n",
        "        data = collect_data(begin, end, headers)\n",
        "        if data:\n",
        "            df = pd.json_normalize(data)\n",
        "            df.rename(columns={\n",
        "                \"statistics.selectedPeriod.begin\": \"Дата начала\",\n",
        "                \"statistics.selectedPeriod.end\": \"Дата конца\",\n",
        "                \"statistics.selectedPeriod.ordersCount\": \"Количество заказов\",\n",
        "                \"statistics.selectedPeriod.ordersSumRub\": \"Сумма заказов\",\n",
        "                \"statistics.selectedPeriod.buyoutsCount\": \"Количество выкупов\",\n",
        "                \"statistics.selectedPeriod.buyoutsSumRub\": \"Сумма выкупов\",\n",
        "                \"stocks.stocksMp\": \"Остатки MP\",\n",
        "                \"stocks.stocksWb\": \"Остатки Wb\",\n",
        "                \"nmID\": \"ID\",\n",
        "                \"vendorCode\": \"Артикул\",\n",
        "                \"brandName\": \"Бренд\",\n",
        "                \"object.name\": \"Название\"\n",
        "            }, inplace=True)\n",
        "\n",
        "            df = df[[\n",
        "                \"Дата начала\", \"Дата конца\", \"Количество заказов\", \"Сумма заказов\",\n",
        "                \"Количество выкупов\", \"Сумма выкупов\", \"Остатки MP\", \"Остатки Wb\",\n",
        "                \"ID\", \"Артикул\", \"Бренд\", \"Название\"\n",
        "            ]]\n",
        "            df[\"Юридическое лицо\"] = company\n",
        "            df[\"Дата продажи\"] = pd.to_datetime(df[\"Дата начала\"])\n",
        "            df[\"Неделя\"] = df[\"Дата продажи\"].apply(lambda x: x.isocalendar()[1])\n",
        "            df[\"МП\"] = \"WB\"\n",
        "            df = df[df[\"Количество заказов\"] > 0]\n",
        "            data_frames.append(df)\n",
        "\n",
        "\n",
        "if data_frames:\n",
        "    full_df = pd.concat(data_frames, ignore_index=True)\n",
        "    full_df = full_df[full_df[\"Неделя\"] > last_week]\n",
        "\n",
        "    final_block = full_df.rename(columns={\n",
        "        'Сумма выкупов': 'Продано, руб.',\n",
        "        'Количество выкупов': 'Продано, шт.'\n",
        "    })[['Юридическое лицо', 'МП', 'Неделя', 'Артикул', 'Бренд', 'Продано, руб.', 'Продано, шт.', 'Дата продажи']]\n",
        "\n",
        "    final_data = pd.concat([final_data, final_block], ignore_index=True)\n",
        "    final_data.drop_duplicates(inplace=True)\n",
        "\n",
        "    try:\n",
        "        with pd.ExcelWriter(final_file_path, engine='openpyxl', mode='a', if_sheet_exists='replace') as writer:\n",
        "            final_data.to_excel(writer, index=False)\n",
        "        print(f\"\\n Данные WB успешно добавлены в файл: {final_file_path}\")\n",
        "    except Exception as e:\n",
        "        print(f\" Ошибка при сохранении: {e}\")\n",
        "else:\n",
        "    print(\"Нет новых данных для добавления.\")\n",
        "\n"
      ],
      "metadata": {
        "colab": {
          "base_uri": "https://localhost:8080/"
        },
        "id": "g5myLWNlJYVE",
        "outputId": "85ac2e56-fbf9-41cf-9471-b5542b207804",
        "collapsed": true
      },
      "execution_count": null,
      "outputs": [
        {
          "output_type": "stream",
          "name": "stdout",
          "text": [
            "Последняя неделя WB в финальном файле: 13\n",
            "\n",
            "🔄 Обработка для: ХТС Вижн\n"
          ]
        },
        {
          "output_type": "stream",
          "name": "stderr",
          "text": [
            "\rЗагрузка ХТС Вижн:   0%|          | 0/7 [00:00<?, ?it/s]"
          ]
        },
        {
          "output_type": "stream",
          "name": "stdout",
          "text": [
            "Попытка 1/3 — ошибка: 429 Client Error: Too Many Requests for url: https://seller-analytics-api.wildberries.ru/api/v2/nm-report/detail. Повтор через 60 сек.\n"
          ]
        },
        {
          "output_type": "stream",
          "name": "stderr",
          "text": [
            "<ipython-input-2-c845db881ebb>:106: SettingWithCopyWarning: \n",
            "A value is trying to be set on a copy of a slice from a DataFrame.\n",
            "Try using .loc[row_indexer,col_indexer] = value instead\n",
            "\n",
            "See the caveats in the documentation: https://pandas.pydata.org/pandas-docs/stable/user_guide/indexing.html#returning-a-view-versus-a-copy\n",
            "  df[\"Юридическое лицо\"] = company\n",
            "<ipython-input-2-c845db881ebb>:107: SettingWithCopyWarning: \n",
            "A value is trying to be set on a copy of a slice from a DataFrame.\n",
            "Try using .loc[row_indexer,col_indexer] = value instead\n",
            "\n",
            "See the caveats in the documentation: https://pandas.pydata.org/pandas-docs/stable/user_guide/indexing.html#returning-a-view-versus-a-copy\n",
            "  df[\"Дата продажи\"] = pd.to_datetime(df[\"Дата начала\"])\n",
            "<ipython-input-2-c845db881ebb>:108: SettingWithCopyWarning: \n",
            "A value is trying to be set on a copy of a slice from a DataFrame.\n",
            "Try using .loc[row_indexer,col_indexer] = value instead\n",
            "\n",
            "See the caveats in the documentation: https://pandas.pydata.org/pandas-docs/stable/user_guide/indexing.html#returning-a-view-versus-a-copy\n",
            "  df[\"Неделя\"] = df[\"Дата продажи\"].apply(lambda x: x.isocalendar()[1])\n",
            "<ipython-input-2-c845db881ebb>:109: SettingWithCopyWarning: \n",
            "A value is trying to be set on a copy of a slice from a DataFrame.\n",
            "Try using .loc[row_indexer,col_indexer] = value instead\n",
            "\n",
            "See the caveats in the documentation: https://pandas.pydata.org/pandas-docs/stable/user_guide/indexing.html#returning-a-view-versus-a-copy\n",
            "  df[\"МП\"] = \"WB\"\n",
            "\rЗагрузка ХТС Вижн:  14%|█▍        | 1/7 [01:14<07:28, 74.70s/it]"
          ]
        },
        {
          "output_type": "stream",
          "name": "stdout",
          "text": [
            "Попытка 1/3 — ошибка: 429 Client Error: Too Many Requests for url: https://seller-analytics-api.wildberries.ru/api/v2/nm-report/detail. Повтор через 60 сек.\n"
          ]
        },
        {
          "output_type": "stream",
          "name": "stderr",
          "text": [
            "\rЗагрузка ХТС Вижн:  29%|██▊       | 2/7 [02:28<06:09, 73.92s/it]"
          ]
        },
        {
          "output_type": "stream",
          "name": "stdout",
          "text": [
            "Попытка 1/3 — ошибка: 429 Client Error: Too Many Requests for url: https://seller-analytics-api.wildberries.ru/api/v2/nm-report/detail. Повтор через 60 сек.\n"
          ]
        },
        {
          "output_type": "stream",
          "name": "stderr",
          "text": [
            "\rЗагрузка ХТС Вижн:  43%|████▎     | 3/7 [03:42<04:56, 74.05s/it]"
          ]
        },
        {
          "output_type": "stream",
          "name": "stdout",
          "text": [
            "Попытка 1/3 — ошибка: 429 Client Error: Too Many Requests for url: https://seller-analytics-api.wildberries.ru/api/v2/nm-report/detail. Повтор через 60 сек.\n",
            "Попытка 1/3 — ошибка: 429 Client Error: Too Many Requests for url: https://seller-analytics-api.wildberries.ru/api/v2/nm-report/detail. Повтор через 60 сек.\n"
          ]
        },
        {
          "output_type": "stream",
          "name": "stderr",
          "text": [
            "\rЗагрузка ХТС Вижн:  57%|█████▋    | 4/7 [06:00<04:57, 99.29s/it]"
          ]
        },
        {
          "output_type": "stream",
          "name": "stdout",
          "text": [
            "Попытка 1/3 — ошибка: 429 Client Error: Too Many Requests for url: https://seller-analytics-api.wildberries.ru/api/v2/nm-report/detail. Повтор через 60 сек.\n"
          ]
        },
        {
          "output_type": "stream",
          "name": "stderr",
          "text": [
            "\rЗагрузка ХТС Вижн:  71%|███████▏  | 5/7 [07:22<03:06, 93.08s/it]"
          ]
        },
        {
          "output_type": "stream",
          "name": "stdout",
          "text": [
            "Попытка 1/3 — ошибка: 429 Client Error: Too Many Requests for url: https://seller-analytics-api.wildberries.ru/api/v2/nm-report/detail. Повтор через 60 сек.\n"
          ]
        },
        {
          "output_type": "stream",
          "name": "stderr",
          "text": [
            "\rЗагрузка ХТС Вижн:  86%|████████▌ | 6/7 [08:40<01:28, 88.03s/it]"
          ]
        },
        {
          "output_type": "stream",
          "name": "stdout",
          "text": [
            "Попытка 1/3 — ошибка: 429 Client Error: Too Many Requests for url: https://seller-analytics-api.wildberries.ru/api/v2/nm-report/detail. Повтор через 60 сек.\n",
            "Попытка 1/3 — ошибка: 429 Client Error: Too Many Requests for url: https://seller-analytics-api.wildberries.ru/api/v2/nm-report/detail. Повтор через 60 сек.\n"
          ]
        },
        {
          "output_type": "stream",
          "name": "stderr",
          "text": [
            "Загрузка ХТС Вижн: 100%|██████████| 7/7 [10:56<00:00, 93.72s/it] \n"
          ]
        },
        {
          "output_type": "stream",
          "name": "stdout",
          "text": [
            "\n",
            "🔄 Обработка для: ХТС Рус\n"
          ]
        },
        {
          "output_type": "stream",
          "name": "stderr",
          "text": [
            "Загрузка ХТС Рус:  43%|████▎     | 3/7 [00:09<00:11,  2.94s/it]"
          ]
        },
        {
          "output_type": "stream",
          "name": "stdout",
          "text": [
            "Попытка 1/3 — ошибка: 429 Client Error: Too Many Requests for url: https://seller-analytics-api.wildberries.ru/api/v2/nm-report/detail. Повтор через 60 сек.\n"
          ]
        },
        {
          "output_type": "stream",
          "name": "stderr",
          "text": [
            "Загрузка ХТС Рус:  57%|█████▋    | 4/7 [01:11<01:19, 26.54s/it]<ipython-input-2-c845db881ebb>:106: SettingWithCopyWarning: \n",
            "A value is trying to be set on a copy of a slice from a DataFrame.\n",
            "Try using .loc[row_indexer,col_indexer] = value instead\n",
            "\n",
            "See the caveats in the documentation: https://pandas.pydata.org/pandas-docs/stable/user_guide/indexing.html#returning-a-view-versus-a-copy\n",
            "  df[\"Юридическое лицо\"] = company\n",
            "<ipython-input-2-c845db881ebb>:107: SettingWithCopyWarning: \n",
            "A value is trying to be set on a copy of a slice from a DataFrame.\n",
            "Try using .loc[row_indexer,col_indexer] = value instead\n",
            "\n",
            "See the caveats in the documentation: https://pandas.pydata.org/pandas-docs/stable/user_guide/indexing.html#returning-a-view-versus-a-copy\n",
            "  df[\"Дата продажи\"] = pd.to_datetime(df[\"Дата начала\"])\n",
            "<ipython-input-2-c845db881ebb>:108: SettingWithCopyWarning: \n",
            "A value is trying to be set on a copy of a slice from a DataFrame.\n",
            "Try using .loc[row_indexer,col_indexer] = value instead\n",
            "\n",
            "See the caveats in the documentation: https://pandas.pydata.org/pandas-docs/stable/user_guide/indexing.html#returning-a-view-versus-a-copy\n",
            "  df[\"Неделя\"] = df[\"Дата продажи\"].apply(lambda x: x.isocalendar()[1])\n",
            "<ipython-input-2-c845db881ebb>:109: SettingWithCopyWarning: \n",
            "A value is trying to be set on a copy of a slice from a DataFrame.\n",
            "Try using .loc[row_indexer,col_indexer] = value instead\n",
            "\n",
            "See the caveats in the documentation: https://pandas.pydata.org/pandas-docs/stable/user_guide/indexing.html#returning-a-view-versus-a-copy\n",
            "  df[\"МП\"] = \"WB\"\n",
            "Загрузка ХТС Рус:  86%|████████▌ | 6/7 [01:22<00:13, 13.96s/it]"
          ]
        },
        {
          "output_type": "stream",
          "name": "stdout",
          "text": [
            "Попытка 1/3 — ошибка: 429 Client Error: Too Many Requests for url: https://seller-analytics-api.wildberries.ru/api/v2/nm-report/detail. Повтор через 60 сек.\n"
          ]
        },
        {
          "output_type": "stream",
          "name": "stderr",
          "text": [
            "Загрузка ХТС Рус: 100%|██████████| 7/7 [02:35<00:00, 22.21s/it]\n"
          ]
        },
        {
          "output_type": "stream",
          "name": "stdout",
          "text": [
            "\n",
            " Данные WB успешно добавлены в файл: /content/Продажи_финальный файл 2025.xlsx\n"
          ]
        }
      ]
    },
    {
      "cell_type": "code",
      "source": [
        "import pandas as pd\n",
        "import requests\n",
        "import time\n",
        "from datetime import datetime, timedelta\n",
        "import warnings\n",
        "warnings.filterwarnings(\"ignore\", category=UserWarning, module=\"openpyxl\")\n",
        "\n",
        "final_file_path = \"/content/Продажи_финальный файл 2025.xlsx\"\n",
        "reference_file_path = \"/content/Справочник_Ozon.xlsx\"\n",
        "\n",
        "entities = {\n",
        "    \"ХТС Вижн\": {\n",
        "        \"api_key\": \"\",\n",
        "        \"businessId\":\n",
        "    },\n",
        "    \"ХТС Рус\": {\n",
        "        \"api_key\": \"\",\n",
        "        \"businessId\":\n",
        "    }\n",
        "}\n",
        "\n",
        "today = datetime.today()\n",
        "prev_week = today.isocalendar()[1] - 1\n",
        "prev_year = today.isocalendar()[0]\n",
        "monday = datetime.strptime(f\"{prev_year}-W{prev_week}-1\", \"%G-W%V-%u\")\n",
        "sunday = monday + timedelta(days=6)\n",
        "date_from_str = monday.strftime(\"%Y-%m-%d\")\n",
        "date_to_str = sunday.strftime(\"%Y-%m-%d\")\n",
        "\n",
        "print(f\"Загружаем данные за период: {date_from_str} — {date_to_str}\")\n",
        "\n",
        "\n",
        "final_data = pd.read_excel(final_file_path)\n",
        "last_week = final_data[final_data['МП'] == 'YM']['Неделя'].max()\n",
        "if pd.isna(last_week):\n",
        "    last_week = 0\n",
        "\n",
        "reference_df = pd.read_excel(reference_file_path)\n",
        "reference_df.rename(columns={'Артикул': 'Ваш SKU', 'Бренд': 'Бренд_HTS'}, inplace=True)\n",
        "\n",
        "\n",
        "def generate_and_download_report(api_key, business_id):\n",
        "    url_generate = \"https://api.partner.market.yandex.ru/reports/shows-sales/generate\"\n",
        "    headers = {\"Content-Type\": \"application/json\", \"Api-Key\": api_key}\n",
        "    body = {\n",
        "        \"businessId\": business_id,\n",
        "        \"dateFrom\": date_from_str,\n",
        "        \"dateTo\": date_to_str,\n",
        "        \"grouping\": \"OFFERS\"\n",
        "    }\n",
        "\n",
        "    response = requests.post(url_generate, json=body, headers=headers)\n",
        "    if response.status_code != 200:\n",
        "        print(f\"Ошибка создания отчета: {response.status_code}\")\n",
        "        return None\n",
        "\n",
        "    report_id = response.json()[\"result\"][\"reportId\"]\n",
        "    url_info = f\"https://api.partner.market.yandex.ru/reports/info/{report_id}\"\n",
        "\n",
        "    for attempt in range(10):\n",
        "        resp = requests.get(url_info, headers=headers)\n",
        "        if resp.status_code == 200 and resp.json()[\"result\"][\"status\"] == \"DONE\":\n",
        "            return resp.json()[\"result\"][\"file\"]\n",
        "        elif resp.json()[\"result\"][\"status\"] == \"ERROR\":\n",
        "            print(\"Ошибка генерации отчета\")\n",
        "            return None\n",
        "        time.sleep(10)\n",
        "    print(\"Таймаут ожидания готовности отчета.\")\n",
        "    return None\n",
        "\n",
        "def process_report(file_url, legal_entity):\n",
        "    response = requests.get(file_url, stream=True)\n",
        "    if response.status_code != 200:\n",
        "        print(f\"шибка при скачивании отчета: {response.status_code}\")\n",
        "        return pd.DataFrame()\n",
        "\n",
        "    df = pd.read_excel(file_url)\n",
        "    df[\"Юридическое лицо\"] = legal_entity\n",
        "    df[\"МП\"] = \"YM\"\n",
        "    df[\"Неделя\"] = monday.isocalendar()[1]\n",
        "    df.rename(columns={\"День\": \"Дата продажи\"}, inplace=True)\n",
        "\n",
        "\n",
        "    df = df.merge(reference_df[['Ваш SKU', 'Бренд_HTS']], on='Ваш SKU', how='left')\n",
        "\n",
        "    df = df.rename(columns={\n",
        "        'Ваш SKU': 'Артикул',\n",
        "        'Бренд_HTS': 'Бренд',\n",
        "        'Доставлено за период на сумму, ₽': 'Продано, руб.',\n",
        "        'Доставлено за период, шт.': 'Продано, шт.'\n",
        "    })[['Юридическое лицо', 'МП', 'Неделя', 'Артикул', 'Бренд', 'Продано, руб.', 'Продано, шт.', 'Дата продажи']]\n",
        "\n",
        "    df['Дата продажи'] = pd.to_datetime(df['Дата продажи'], errors='coerce').dt.strftime('%d.%m.%Y %H:%M:%S')\n",
        "    df = df.dropna(subset=['Дата продажи'])\n",
        "\n",
        "    return df\n",
        "\n",
        "all_data = pd.DataFrame()\n",
        "for entity_name, creds in entities.items():\n",
        "    print(f\"\\n Обработка: {entity_name}\")\n",
        "    file_url = generate_and_download_report(creds['api_key'], creds['businessId'])\n",
        "    if file_url:\n",
        "        df = process_report(file_url, entity_name)\n",
        "        all_data = pd.concat([all_data, df], ignore_index=True)\n",
        "\n",
        "\n",
        "if not all_data.empty:\n",
        "    all_data = all_data.loc[:, ~all_data.columns.duplicated()]\n",
        "    all_data = all_data[all_data[\"Неделя\"] > last_week]\n",
        "\n",
        "    missing_cols = [col for col in final_data.columns if col not in all_data.columns]\n",
        "    for col in missing_cols:\n",
        "        all_data[col] = None\n",
        "\n",
        "    all_data = all_data[final_data.columns]  # Переставим порядок столбцов\n",
        "    final_data = pd.concat([final_data, all_data], ignore_index=True)\n",
        "    final_data.drop_duplicates(inplace=True)\n",
        "\n",
        "    try:\n",
        "        with pd.ExcelWriter(final_file_path, engine=\"openpyxl\", mode='a', if_sheet_exists='replace') as writer:\n",
        "            final_data.to_excel(writer, index=False)\n",
        "        print(f\"\\n Данные успешно добавлены в файл: {final_file_path}\")\n",
        "    except Exception as e:\n",
        "        print(f\"Ошибка при сохранении: {e}\")\n",
        "else:\n",
        "    print(\"Нет новых данных для добавления.\")\n"
      ],
      "metadata": {
        "colab": {
          "base_uri": "https://localhost:8080/"
        },
        "id": "BNFmWrzjKmbz",
        "outputId": "da984300-bf84-42b9-e990-de68ab7cfb65"
      },
      "execution_count": null,
      "outputs": [
        {
          "output_type": "stream",
          "name": "stdout",
          "text": [
            "Загружаем данные за период: 2025-03-31 — 2025-04-06\n",
            "\n",
            "📥 Обработка: ХТС Вижн\n"
          ]
        },
        {
          "output_type": "stream",
          "name": "stderr",
          "text": [
            "<ipython-input-7-1ce21deccd73>:98: UserWarning: Parsing dates in %d-%m-%Y format when dayfirst=False (the default) was specified. Pass `dayfirst=True` or specify a format to silence this warning.\n",
            "  df['Дата продажи'] = pd.to_datetime(df['Дата продажи'], errors='coerce').dt.strftime('%d.%m.%Y %H:%M:%S')\n"
          ]
        },
        {
          "output_type": "stream",
          "name": "stdout",
          "text": [
            "\n",
            "📥 Обработка: ХТС Рус\n"
          ]
        },
        {
          "output_type": "stream",
          "name": "stderr",
          "text": [
            "<ipython-input-7-1ce21deccd73>:98: UserWarning: Parsing dates in %d-%m-%Y format when dayfirst=False (the default) was specified. Pass `dayfirst=True` or specify a format to silence this warning.\n",
            "  df['Дата продажи'] = pd.to_datetime(df['Дата продажи'], errors='coerce').dt.strftime('%d.%m.%Y %H:%M:%S')\n",
            "<ipython-input-7-1ce21deccd73>:123: FutureWarning: The behavior of DataFrame concatenation with empty or all-NA entries is deprecated. In a future version, this will no longer exclude empty or all-NA columns when determining the result dtypes. To retain the old behavior, exclude the relevant entries before the concat operation.\n",
            "  final_data = pd.concat([final_data, all_data], ignore_index=True)\n"
          ]
        }
      ]
    }
  ],
  "metadata": {
    "colab": {
      "provenance": []
    },
    "kernelspec": {
      "display_name": "Python 3",
      "name": "python3"
    },
    "language_info": {
      "name": "python"
    }
  },
  "nbformat": 4,
  "nbformat_minor": 0
}